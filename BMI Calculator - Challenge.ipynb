{
 "cells": [
  {
   "cell_type": "markdown",
   "metadata": {},
   "source": [
    "## Body Mass Index \n",
    "\n",
    "Body Mass Index (BMI) is a person’s weight in kilograms divided by the square of height in meters. A high BMI can be an indicator of high body fatness. BMI can be used to screen for weight categories that may lead to health problems but it is not diagnostic of the body fatness or health of an individual.<br>\n",
    "\n",
    "BMI provides a reliable indicator of body fatness for most people and is used to screen for weight categories that may lead to health problems. <br><br>\n",
    "Information source: [cdc.gov](https://www.cdc.gov/healthyweight/assessing/bmi/index.html)\n",
    "\n",
    "### Challenge\n",
    "Using the formula for BMI given below, create a \"chained-if statement\" to ensure that the formula works for the following conditions:\n",
    "- the weight must be at or below 300 kilograms \n",
    "- the height speed must be at least 1 meter\n",
    "\n",
    "Assume height is in centimeters and weight is given in kilograms.<br><br>\n",
    "Provide a message for the user if the test condition fails.<br>\n",
    "Round the calculated BMI to a whole number (integer value).<br>\n",
    "Make sure to test all conditions.<br>\n",
    "\n",
    "### Assessment Note\n",
    "Some of the code is started but you can adjust to whatever you would like. You can adjust the calculations as you'd wish. The most important output is the correct calculation and display of the 1)BMI and the 2)Category. Your final output statement must be accurate: \"The BMI is _ which would make this category _.\"  <br>\n",
    "\n",
    "ex. \"The BMI is 33 which would make this categoy Obese\""
   ]
  },
  {
   "cell_type": "code",
   "execution_count": 4,
   "metadata": {},
   "outputs": [
    {
     "name": "stdout",
     "output_type": "stream",
     "text": [
      "Please enter a value between 0-300 kilograms:154\n",
      "Please enter a value larger than 1 meter:185\n"
     ]
    }
   ],
   "source": [
    "# input height and weight\n",
    "weight_input=input(\"Please enter a value between 0-300 kilograms:\")\n",
    "height_input=input(\"Please enter a value larger than 100 centimeter:\")"
   ]
  },
  {
   "cell_type": "code",
   "execution_count": 5,
   "metadata": {
    "scrolled": true
   },
   "outputs": [],
   "source": [
    "# covert input to integer and height to meter\n",
    "weight=int(weight_input)\n",
    "height=int(height_input)/100"
   ]
  },
  {
   "cell_type": "code",
   "execution_count": 6,
   "metadata": {},
   "outputs": [
    {
     "name": "stdout",
     "output_type": "stream",
     "text": [
      "Feasible input\n",
      "Feasible input\n"
     ]
    }
   ],
   "source": [
    "# determine whether the input fit the criteria\n",
    "if (weight>0 and weight<=300):\n",
    "    print(\"Feasible input\")\n",
    "elif (weight<=0):\n",
    "    print(\"Input smaller than 0\")\n",
    "else:\n",
    "    print(\"Input larger than 300\")\n",
    "\n",
    "if (height>=1):\n",
    "    print(\"Feasible input\")\n",
    "else:\n",
    "    print(\"Input smaller than 1\")"
   ]
  },
  {
   "cell_type": "code",
   "execution_count": 7,
   "metadata": {},
   "outputs": [],
   "source": [
    "# formula for BMI, see source indicated above for detailed description\n",
    "# give the category for obesity classification (underweight, obese, etc.)\n",
    "\n",
    "#Your code here: \n",
    "Calc_BMI = weight/height**2\n",
    "\n",
    "#convert BMI to integer\n",
    "BMI=round(Calc_BMI)\n",
    "\n",
    "#determine the category of BMI\n",
    "if (BMI>=18.5 and BMI<=30):\n",
    "    category=\"Normal\"\n",
    "elif(BMI<18.5):\n",
    "    category=\"Underweight\"\n",
    "else:\n",
    "    category=\"Obese\""
   ]
  },
  {
   "cell_type": "code",
   "execution_count": 8,
   "metadata": {
    "scrolled": true
   },
   "outputs": [
    {
     "name": "stdout",
     "output_type": "stream",
     "text": [
      "The BMI is  45  which would make this categoy: Obese\n"
     ]
    }
   ],
   "source": [
    "print(\"The BMI is \", BMI , \" which would make this categoy:\", category)"
   ]
  },
  {
   "cell_type": "markdown",
   "metadata": {
    "collapsed": true
   },
   "source": [
    "### Bonus Challenge\n",
    "Complete the same challenge as above, but instead of using a \"chained-if statement\", use a logical operator and a single `if` statement."
   ]
  },
  {
   "cell_type": "code",
   "execution_count": 16,
   "metadata": {},
   "outputs": [
    {
     "name": "stdout",
     "output_type": "stream",
     "text": [
      "Please enter a value between 0-300 kilograms:60\n",
      "Please enter a value larger than 100 centimeter:178\n",
      "Feasible input\n"
     ]
    }
   ],
   "source": [
    "i=1\n",
    "\n",
    "while i==1:\n",
    "    weight_input=input(\"Please enter a value between 0-300 kilograms:\")\n",
    "    height_input=input(\"Please enter a value larger than 100 centimeter:\")\n",
    "    weight=int(weight_input)\n",
    "    height=int(height_input)/100\n",
    "    \n",
    "    if (weight>0 and weight<=300 and height>=1):\n",
    "        print(\"Feasible input\")\n",
    "        i=0\n",
    "    else:\n",
    "        print(\"Out of range, enter again\")\n",
    "        i=1"
   ]
  },
  {
   "cell_type": "code",
   "execution_count": 17,
   "metadata": {},
   "outputs": [],
   "source": [
    "Calc_BMI = weight/height**2\n",
    "\n",
    "BMI=round(Calc_BMI)\n",
    "\n",
    "if (BMI>=18.5 and BMI<=30):\n",
    "    category=\"Normal\"\n",
    "elif(BMI<18.5):\n",
    "    category=\"Underweight\"\n",
    "else:\n",
    "    category=\"Obese\""
   ]
  },
  {
   "cell_type": "code",
   "execution_count": 18,
   "metadata": {},
   "outputs": [
    {
     "name": "stdout",
     "output_type": "stream",
     "text": [
      "The BMI is  19  which would make this categoy: Normal\n"
     ]
    }
   ],
   "source": [
    "print(\"The BMI is \", BMI , \" which would make this categoy:\", category)"
   ]
  }
 ],
 "metadata": {
  "kernelspec": {
   "display_name": "Python 3 (ipykernel)",
   "language": "python",
   "name": "python3"
  },
  "language_info": {
   "codemirror_mode": {
    "name": "ipython",
    "version": 3
   },
   "file_extension": ".py",
   "mimetype": "text/x-python",
   "name": "python",
   "nbconvert_exporter": "python",
   "pygments_lexer": "ipython3",
   "version": "3.9.7"
  }
 },
 "nbformat": 4,
 "nbformat_minor": 2
}
